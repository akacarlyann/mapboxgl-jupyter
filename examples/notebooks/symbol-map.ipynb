{
 "cells": [
  {
   "cell_type": "markdown",
   "metadata": {},
   "source": [
    "## Create a symbol map using sample data file\n",
    "https://www.mapbox.com/help/custom-markers-gl-js/"
   ]
  },
  {
   "cell_type": "code",
   "execution_count": null,
   "metadata": {},
   "outputs": [],
   "source": [
    "import os\n",
    "from mapboxgl.viz import *\n",
    "\n",
    "# Set Mapbox Acces Token; Must be a public token, starting with `pk`\n",
    "token = os.getenv('MAPBOX_ACCESS_TOKEN')\n",
    "\n",
    "# Define sample GeoJSON data\n",
    "data = {\n",
    "  \"type\": 'FeatureCollection',\n",
    "  \"features\": [{\n",
    "    \"type\": 'Feature',\n",
    "    \"geometry\": {\n",
    "      \"type\": 'Point',\n",
    "      \"coordinates\": [-77.032, 38.913]\n",
    "    },\n",
    "    \"properties\": {\n",
    "      \"title\": 'Mapbox',\n",
    "      \"description\": 'Washington, D.C.',\n",
    "      \"symbol-url\": \"https://cdn1.iconfinder.com/data/icons/color-bold-style/21/14_2-512.png\"\n",
    "    }\n",
    "  },\n",
    "  {\n",
    "    \"type\": 'Feature',\n",
    "    \"geometry\": {\n",
    "      \"type\": 'Point',\n",
    "      \"coordinates\": [-122.414, 37.776]\n",
    "    },\n",
    "    \"properties\": {\n",
    "      \"title\": 'Mapbox',\n",
    "      \"description\": 'San Francisco, California',\n",
    "      \"symbol-url\": \"https://upload.wikimedia.org/wikipedia/commons/thumb/b/b0/Simpleicons_Places_map-marker-1.svg/768px-Simpleicons_Places_map-marker-1.svg.png\"\n",
    "    }\n",
    "  }]\n",
    "}\n",
    "\n",
    "# Generate data breaks using numpy quantiles and color stops from colorBrewer\n",
    "\n",
    "# Create the viz from the dataframe\n",
    "viz = SymbolViz(data,\n",
    "                access_token=token, \n",
    "                center=(-95, 40),\n",
    "                zoom=2.5,\n",
    "                label_property='description',\n",
    "                below_layer='waterway-label',\n",
    "                height='300px')\n",
    "\n",
    "# Show the viz\n",
    "viz.show()"
   ]
  }
 ],
 "metadata": {
  "kernelspec": {
   "display_name": "Python 3",
   "language": "python",
   "name": "python3"
  },
  "language_info": {
   "codemirror_mode": {
    "name": "ipython",
    "version": 3
   },
   "file_extension": ".py",
   "mimetype": "text/x-python",
   "name": "python",
   "nbconvert_exporter": "python",
   "pygments_lexer": "ipython3",
   "version": "3.6.1"
  }
 },
 "nbformat": 4,
 "nbformat_minor": 2
}
